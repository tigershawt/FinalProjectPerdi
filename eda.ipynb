{
 "cells": [
  {
   "cell_type": "code",
   "execution_count": 3,
   "metadata": {},
   "outputs": [],
   "source": [
    "import pandas as pd\n",
    "import os"
   ]
  },
  {
   "cell_type": "code",
   "execution_count": 1,
   "metadata": {},
   "outputs": [],
   "source": [
    "# Sales :\n",
    "# 1. filtered_data\\dbo.DimCurrency.csv\n",
    "# 2. filtered_data\\dbo.DimReseller.csv\n",
    "# 3. filtered_data\\dbo.DimSalesReason.csv\n",
    "# 4. filtered_data\\dbo.FactCurrencyRate.csv\n",
    "# 5. filtered_data\\dbo.FactInternetSales.csv\n",
    "# 6. filtered_data\\dbo.FactInternetSalesReason.csv\n",
    "# 7. filtered_data\\dbo.FactResellerSales.csv\n",
    "# 8. filtered_data\\dbo.FactSalesQuota.csv\n",
    "# Production :\n",
    "# 1. filtered_data/dbo.DimProduct.csv\n",
    "# 2. filtered_data\\dbo.DimProductCategory.csv\n",
    "# 3. filtered_data\\dbo.DimProductSubcategory.csv\n",
    "# 4. filtered_data\\dbo.vAssocSeqLineItems.csv\n",
    "# 5. filtered_data\\dbo.vAssocSeqOrders.csv\n",
    "# 6. filtered_data\\dbo.vDMPrep.csv\n",
    "# 7. filtered_data\\dbo.FactProductInventory.csv"
   ]
  },
  {
   "cell_type": "code",
   "execution_count": 4,
   "metadata": {},
   "outputs": [],
   "source": [
    "# loading all the neccesary data for Sales department product category\n",
    "DimProduct = pd.read_csv(\"source_data\\dbo.DimProduct.csv\")\n",
    "\n",
    "DimProductCategory = pd.read_csv(\"source_data\\dbo.DimProductCategory.csv\")\n",
    "\n",
    "DimProductSubcategory = pd.read_csv(\"source_data\\dbo.DimProductSubcategory.csv\")\n",
    "\n",
    "vAssocSeqLineItems = pd.read_csv(\"source_data\\dbo.vAssocSeqLineItems.csv\")\n",
    "\n",
    "vAssocSeqOrders = pd.read_csv(\"source_data\\dbo.vAssocSeqOrders.csv\")\n",
    "\n",
    "vDMPrep = pd.read_csv(\"source_data\\dbo.vDMPrep.csv\")\n",
    "\n",
    "FactProductInventory = pd.read_csv(\"source_data\\dbo.FactProductInventory.csv\")"
   ]
  },
  {
   "cell_type": "code",
   "execution_count": null,
   "metadata": {},
   "outputs": [],
   "source": [
    "DimProduct.head*"
   ]
  }
 ],
 "metadata": {
  "kernelspec": {
   "display_name": "API_REST",
   "language": "python",
   "name": "python3"
  },
  "language_info": {
   "codemirror_mode": {
    "name": "ipython",
    "version": 3
   },
   "file_extension": ".py",
   "mimetype": "text/x-python",
   "name": "python",
   "nbconvert_exporter": "python",
   "pygments_lexer": "ipython3",
   "version": "3.9.18"
  }
 },
 "nbformat": 4,
 "nbformat_minor": 2
}
