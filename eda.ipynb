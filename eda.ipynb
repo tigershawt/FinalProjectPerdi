{
 "cells": [
  {
   "cell_type": "code",
   "execution_count": 3,
   "metadata": {},
   "outputs": [],
   "source": [
    "import pandas as pd\n",
    "import os"
   ]
  },
  {
   "cell_type": "code",
   "execution_count": 1,
   "metadata": {},
   "outputs": [],
   "source": [
    "# Tables we need to use as a Sales Department \n",
    "\n",
    "# Team 1 (Alex, Filip, Pablo) - Team 2 (Dmitriy,Luis,Pepe)\n",
    "\n",
    "# 1. sales department tables\\Sales.CountryRegionCurrency.csv -T2\n",
    "# 2. sales department tables\\Sales.CreditCard.csv - T1\n",
    "# 3. sales department tables\\Sales.Currency.csv . T2\n",
    "# 4. sales department tables\\Sales.CurrencyRate.csv - T2\n",
    "# 5. sales department tables\\Sales.Customer.csv - T1\n",
    "# 6. sales department tables\\Sales.PersonCreditCard.csv - T1\n",
    "# 7. sales department tables\\Sales.SalesOrderDetail.csv - T2\n",
    "# 8. sales department tables\\Sales.SalesOrderHeader.csv - SHARED\n",
    "# 9. sales department tables\\Sales.SalesOrderHeaderSalesReason.csv - T2\n",
    "# 10. sales department tables\\Sales.SalesPerson.csv - T1\n",
    "# 11. sales department tables\\Sales.SalesPersonQuotaHistory.csv -T1\n",
    "# 12. sales department tables\\Sales.SalesReason.csv - T2\n",
    "# 13. sales department tables\\Sales.SalesTaxRate.csv - T2\n",
    "# 14. sales department tables\\Sales.SalesTerritory.csv - T1\n",
    "# 15. sales department tables\\Sales.SalesTerritoryHistory.csv - T1\n",
    "# 16. sales department tables\\Sales.ShoppingCartItem.csv -T2\n",
    "# 17. sales department tables\\Sales.SpecialOffer.csv - T2\n",
    "# 18. sales department tables\\Sales.SpecialOfferProduct.csv - T2\n",
    "# 19. sales department tables\\Sales.Store.csv - T1"
   ]
  },
  {
   "cell_type": "code",
   "execution_count": null,
   "metadata": {},
   "outputs": [],
   "source": []
  }
 ],
 "metadata": {
  "kernelspec": {
   "display_name": "API_REST",
   "language": "python",
   "name": "python3"
  },
  "language_info": {
   "codemirror_mode": {
    "name": "ipython",
    "version": 3
   },
   "file_extension": ".py",
   "mimetype": "text/x-python",
   "name": "python",
   "nbconvert_exporter": "python",
   "pygments_lexer": "ipython3",
   "version": "3.9.18"
  }
 },
 "nbformat": 4,
 "nbformat_minor": 2
}
